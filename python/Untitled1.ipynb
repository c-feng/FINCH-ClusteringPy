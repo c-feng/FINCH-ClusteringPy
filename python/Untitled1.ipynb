{
 "cells": [
  {
   "cell_type": "code",
   "execution_count": 2,
   "metadata": {},
   "outputs": [],
   "source": [
    "import scipy.io\n",
    "import h5py\n",
    "import numpy as np\n",
    "\n",
    "file_path = \"/media/fcheng/FINCH-Clustering/data/STL-10/data.mat\"\n",
    "\n",
    "with h5py.File(file_path, 'r') as f:\n",
    "    data = f['data']\n",
    "    data = np.array(data).T\n"
   ]
  },
  {
   "cell_type": "code",
   "execution_count": 4,
   "metadata": {},
   "outputs": [],
   "source": [
    "from FINCH_Core.clustRank import clustRank\n",
    "initial_rank = []\n",
    "Affinity_, orig_dist, _ = clustRank(data, initial_rank)\n"
   ]
  },
  {
   "cell_type": "code",
   "execution_count": 10,
   "metadata": {},
   "outputs": [
    {
     "name": "stdout",
     "output_type": "stream",
     "text": [
      "[0. 1. 2.]\n",
      "39630\n",
      "4122\n"
     ]
    }
   ],
   "source": [
    "print(np.unique(Affinity_.toarray()))\n",
    "print(np.sum(Affinity_.toarray()==1))\n",
    "print(np.sum(Affinity_.toarray()==2))"
   ]
  },
  {
   "cell_type": "code",
   "execution_count": 11,
   "metadata": {},
   "outputs": [
    {
     "name": "stdout",
     "output_type": "stream",
     "text": [
      "[[       inf 0.6395585  0.52154286 0.5995917  0.57061387 0.68708042\n",
      "  0.61140867 0.60762769 0.7541009  0.63417293]\n",
      " [0.6395585         inf 0.43758539 0.59992377 0.56114794 0.66856209\n",
      "  0.50293046 0.57253003 0.59112056 0.72892383]\n",
      " [0.52154286 0.43758539        inf 0.58955268 0.50857371 0.64967182\n",
      "  0.48365688 0.49866503 0.59112766 0.68967681]\n",
      " [0.5995917  0.59992377 0.58955268        inf 0.64691814 0.55600859\n",
      "  0.66732459 0.67594276 0.6516746  0.6172101 ]\n",
      " [0.57061387 0.56114794 0.50857371 0.64691814        inf 0.66848808\n",
      "  0.53286641 0.54126342 0.67626273 0.64625852]\n",
      " [0.68708042 0.66856209 0.64967182 0.55600859 0.66848808        inf\n",
      "  0.69943659 0.72947556 0.72084234 0.45242419]\n",
      " [0.61140867 0.50293046 0.48365688 0.66732459 0.53286641 0.69943659\n",
      "         inf 0.59029245 0.6973638  0.71914899]\n",
      " [0.60762769 0.57253003 0.49866503 0.67594276 0.54126342 0.72947556\n",
      "  0.59029245        inf 0.70757007 0.72642576]\n",
      " [0.7541009  0.59112056 0.59112766 0.6516746  0.67626273 0.72084234\n",
      "  0.6973638  0.70757007        inf 0.74719211]\n",
      " [0.63417293 0.72892383 0.68967681 0.6172101  0.64625852 0.45242419\n",
      "  0.71914899 0.72642576 0.74719211        inf]]\n"
     ]
    }
   ],
   "source": [
    "print(orig_dist[:10, :10])"
   ]
  },
  {
   "cell_type": "code",
   "execution_count": 13,
   "metadata": {},
   "outputs": [],
   "source": [
    "from FINCH_Core.get_clust import get_clust\n",
    "Group_ = get_clust(Affinity_, [], np.inf)\n"
   ]
  },
  {
   "cell_type": "code",
   "execution_count": 30,
   "metadata": {},
   "outputs": [
    {
     "name": "stdout",
     "output_type": "stream",
     "text": [
      "[   0    1    2 ... 2058 2059 2060] (13000,)\n",
      "[1806  475 1437  435 1661  840   11 1272 1743  430]\n"
     ]
    }
   ],
   "source": [
    "print(np.unique(Group_), Group_.shape)\n",
    "print(Group_[-10:])"
   ]
  },
  {
   "cell_type": "code",
   "execution_count": 15,
   "metadata": {},
   "outputs": [],
   "source": [
    "from FINCH_Core.get_merge import get_merge\n",
    "c, num_clust, mat = get_merge([], Group_, data)\n"
   ]
  },
  {
   "cell_type": "code",
   "execution_count": 16,
   "metadata": {},
   "outputs": [
    {
     "name": "stdout",
     "output_type": "stream",
     "text": [
      "[[0.04093142 0.15441199 1.23327896 0.65436242 0.93097696 0.24027635\n",
      "  0.52146819 0.28421423 0.08741484 0.00656254]\n",
      " [0.78801213 0.38923053 0.17731755 0.11491592 0.62110606 3.36836135\n",
      "  0.06537916 0.36890557 0.10829236 0.04893236]\n",
      " [0.30743476 0.11307178 0.35239838 0.30884921 1.03607747 0.79648317\n",
      "  0.16686233 0.14079956 0.24026253 0.21062335]\n",
      " [0.74710247 1.33104843 0.34513118 0.98153604 0.45060413 0.71767141\n",
      "  0.29718454 0.83767126 3.18700963 0.03520721]\n",
      " [0.07266629 0.18395681 0.19053651 0.10359657 3.17704082 0.23914292\n",
      "  0.3092468  0.49075881 0.00897    0.03298206]\n",
      " [0.28023019 0.14312471 0.1274875  0.70268275 0.2183824  2.26531586\n",
      "  0.58831347 0.49654616 1.38862363 0.04738321]\n",
      " [0.20141239 0.13563699 0.31446827 0.10387727 5.89049594 0.08737619\n",
      "  0.06358969 0.30360839 0.30314005 0.4703034 ]\n",
      " [0.10085571 0.17027033 0.27665633 0.10256788 0.71235251 1.13755859\n",
      "  0.06933954 0.10267043 0.27801215 0.03590233]\n",
      " [0.33960968 0.25821274 0.08292947 0.42589353 0.48099163 1.01381814\n",
      "  0.49558241 0.36000292 0.09519259 0.30943069]\n",
      " [0.1757556  0.02629882 0.19518766 0.13329357 0.4168121  0.23844995\n",
      "  0.75323284 0.33051837 1.76007547 0.0195415 ]]\n"
     ]
    }
   ],
   "source": [
    "print(mat[:10, :10])"
   ]
  },
  {
   "cell_type": "code",
   "execution_count": 17,
   "metadata": {},
   "outputs": [
    {
     "name": "stdout",
     "output_type": "stream",
     "text": [
      "[   0    1    2 ... 1272 1743  430]\n"
     ]
    }
   ],
   "source": [
    "print(c)"
   ]
  },
  {
   "cell_type": "code",
   "execution_count": 18,
   "metadata": {},
   "outputs": [
    {
     "name": "stdout",
     "output_type": "stream",
     "text": [
      "2061\n"
     ]
    }
   ],
   "source": [
    "print(num_clust)"
   ]
  },
  {
   "cell_type": "code",
   "execution_count": 19,
   "metadata": {},
   "outputs": [],
   "source": [
    "if orig_dist is not None:\n",
    "    min_sim = np.max(orig_dist[Affinity_.toarray() > 0])\n",
    "exit_clust = np.inf\n",
    "c_ = c\n",
    "\n",
    "num_clust = [num_clust]\n",
    "k = 1\n"
   ]
  },
  {
   "cell_type": "code",
   "execution_count": 20,
   "metadata": {},
   "outputs": [
    {
     "data": {
      "text/plain": [
       "0.6136007848862834"
      ]
     },
     "execution_count": 20,
     "metadata": {},
     "output_type": "execute_result"
    }
   ],
   "source": [
    "min_sim"
   ]
  },
  {
   "cell_type": "code",
   "execution_count": 21,
   "metadata": {},
   "outputs": [],
   "source": [
    "Affinity_, orig_dist, _ = clustRank(mat, initial_rank)"
   ]
  },
  {
   "cell_type": "code",
   "execution_count": 23,
   "metadata": {},
   "outputs": [
    {
     "name": "stdout",
     "output_type": "stream",
     "text": [
      "[0. 1. 2.] (2061, 2061)\n",
      "10776\n",
      "354\n"
     ]
    }
   ],
   "source": [
    "print(np.unique(Affinity_.toarray()), Affinity_.shape)\n",
    "print(np.sum(Affinity_.toarray()==1))\n",
    "print(np.sum(Affinity_.toarray()==2))"
   ]
  },
  {
   "cell_type": "code",
   "execution_count": 24,
   "metadata": {},
   "outputs": [
    {
     "name": "stdout",
     "output_type": "stream",
     "text": [
      "[[       inf 0.57020554 0.34715549 0.54640924 0.45227307 0.5638903\n",
      "  0.49385701 0.42531884 0.5270326  0.60911207]\n",
      " [0.57020554        inf 0.3735681  0.53338803 0.49428935 0.60130091\n",
      "  0.49653613 0.41764132 0.36996124 0.66195068]\n",
      " [0.34715549 0.3735681         inf 0.46403775 0.33449995 0.54082887\n",
      "  0.32733167 0.11392679 0.42109048 0.61311633]\n",
      " [0.54640924 0.53338803 0.46403775        inf 0.59324109 0.49952246\n",
      "  0.60456511 0.50567573 0.51367608 0.5718305 ]\n",
      " [0.45227307 0.49428935 0.33449995 0.59324109        inf 0.5858491\n",
      "  0.41247874 0.34489644 0.47353556 0.6243358 ]\n",
      " [0.5638903  0.60130091 0.54082887 0.49952246 0.5858491         inf\n",
      "  0.59761345 0.58617073 0.53692177 0.39754032]\n",
      " [0.49385701 0.49653613 0.32733167 0.60456511 0.41247874 0.59761345\n",
      "         inf 0.45379513 0.52918829 0.66503308]\n",
      " [0.42531884 0.41764132 0.11392679 0.50567573 0.34489644 0.58617073\n",
      "  0.45379513        inf 0.51272066 0.63868981]\n",
      " [0.5270326  0.36996124 0.42109048 0.51367608 0.47353556 0.53692177\n",
      "  0.52918829 0.51272066        inf 0.58541982]\n",
      " [0.60911207 0.66195068 0.61311633 0.5718305  0.6243358  0.39754032\n",
      "  0.66503308 0.63868981 0.58541982        inf]]\n"
     ]
    }
   ],
   "source": [
    "print(orig_dist[:10, :10])"
   ]
  },
  {
   "cell_type": "code",
   "execution_count": 25,
   "metadata": {},
   "outputs": [],
   "source": [
    "u = get_clust(Affinity_, orig_dist, min_sim)\n"
   ]
  },
  {
   "cell_type": "code",
   "execution_count": 28,
   "metadata": {},
   "outputs": [
    {
     "name": "stdout",
     "output_type": "stream",
     "text": [
      "[   0    1    2 ... 2058 2059 2060] (2061,)\n",
      "[2051 2052 2053 2054 2055 2056 2057 2058 2059 2060]\n"
     ]
    }
   ],
   "source": [
    "print(np.unique(u), u.shape)\n",
    "print(u[-10:])"
   ]
  },
  {
   "cell_type": "code",
   "execution_count": null,
   "metadata": {},
   "outputs": [],
   "source": []
  },
  {
   "cell_type": "code",
   "execution_count": null,
   "metadata": {},
   "outputs": [],
   "source": []
  },
  {
   "cell_type": "code",
   "execution_count": null,
   "metadata": {},
   "outputs": [],
   "source": []
  },
  {
   "cell_type": "code",
   "execution_count": 54,
   "metadata": {},
   "outputs": [],
   "source": [
    "A = Affinity_\n",
    "od = orig_dist"
   ]
  },
  {
   "cell_type": "code",
   "execution_count": 55,
   "metadata": {},
   "outputs": [
    {
     "name": "stderr",
     "output_type": "stream",
     "text": [
      "/home/fcheng/anaconda3/lib/python3.7/site-packages/ipykernel_launcher.py:4: RuntimeWarning: invalid value encountered in multiply\n",
      "  after removing the cwd from sys.path.\n"
     ]
    }
   ],
   "source": [
    "if min_sim != np.inf:\n",
    "    # ind = np.stack(np.where(orig_dist*A > min_sim), axis=0).T\n",
    "    A = A.toarray()\n",
    "    mask = orig_dist * A\n",
    "    mask[np.isnan(mask)>0] = np.inf\n",
    "    A[mask > min_sim] = 0\n",
    "    #A = A.tocoo()"
   ]
  },
  {
   "cell_type": "code",
   "execution_count": 56,
   "metadata": {},
   "outputs": [
    {
     "name": "stdout",
     "output_type": "stream",
     "text": [
      "<class 'numpy.ndarray'>\n"
     ]
    }
   ],
   "source": [
    "A.shape\n",
    "print(type(orig_dist))"
   ]
  },
  {
   "cell_type": "code",
   "execution_count": 37,
   "metadata": {},
   "outputs": [
    {
     "name": "stdout",
     "output_type": "stream",
     "text": [
      "[0.] (2061, 2061)\n",
      "0\n",
      "0\n"
     ]
    }
   ],
   "source": [
    "print(np.unique(A.toarray()), A.shape)\n",
    "print(np.sum(A.toarray()==1))\n",
    "print(np.sum(A.toarray()==2))"
   ]
  },
  {
   "cell_type": "code",
   "execution_count": 57,
   "metadata": {},
   "outputs": [
    {
     "name": "stderr",
     "output_type": "stream",
     "text": [
      "/home/fcheng/anaconda3/lib/python3.7/site-packages/ipykernel_launcher.py:1: RuntimeWarning: invalid value encountered in multiply\n",
      "  \"\"\"Entry point for launching an IPython kernel.\n"
     ]
    },
    {
     "data": {
      "text/plain": [
       "array([[nan,  0.,  0.,  0.,  0.,  0.,  0.,  0.,  0.,  0.],\n",
       "       [ 0., nan,  0.,  0.,  0.,  0.,  0.,  0.,  0.,  0.],\n",
       "       [ 0.,  0., nan,  0.,  0.,  0.,  0.,  0.,  0.,  0.],\n",
       "       [ 0.,  0.,  0., nan,  0.,  0.,  0.,  0.,  0.,  0.],\n",
       "       [ 0.,  0.,  0.,  0., nan,  0.,  0.,  0.,  0.,  0.],\n",
       "       [ 0.,  0.,  0.,  0.,  0., nan,  0.,  0.,  0.,  0.],\n",
       "       [ 0.,  0.,  0.,  0.,  0.,  0., nan,  0.,  0.,  0.],\n",
       "       [ 0.,  0.,  0.,  0.,  0.,  0.,  0., nan,  0.,  0.],\n",
       "       [ 0.,  0.,  0.,  0.,  0.,  0.,  0.,  0., nan,  0.],\n",
       "       [ 0.,  0.,  0.,  0.,  0.,  0.,  0.,  0.,  0., nan]])"
      ]
     },
     "execution_count": 57,
     "metadata": {},
     "output_type": "execute_result"
    }
   ],
   "source": [
    "(orig_dist*Affinity_.toarray())[:10, :10]"
   ]
  },
  {
   "cell_type": "code",
   "execution_count": 50,
   "metadata": {},
   "outputs": [
    {
     "data": {
      "text/plain": [
       "array([[0., 0., 0., 0., 0., 0., 0., 0., 0., 0.],\n",
       "       [0., 0., 0., 0., 0., 0., 0., 0., 0., 0.],\n",
       "       [0., 0., 0., 0., 0., 0., 0., 0., 0., 0.],\n",
       "       [0., 0., 0., 0., 0., 0., 0., 0., 0., 0.],\n",
       "       [0., 0., 0., 0., 0., 0., 0., 0., 0., 0.],\n",
       "       [0., 0., 0., 0., 0., 0., 0., 0., 0., 0.],\n",
       "       [0., 0., 0., 0., 0., 0., 0., 0., 0., 0.],\n",
       "       [0., 0., 0., 0., 0., 0., 0., 0., 0., 0.],\n",
       "       [0., 0., 0., 0., 0., 0., 0., 0., 0., 0.],\n",
       "       [0., 0., 0., 0., 0., 0., 0., 0., 0., 0.]])"
      ]
     },
     "execution_count": 50,
     "metadata": {},
     "output_type": "execute_result"
    }
   ],
   "source": [
    "Affinity_.toarray()[:10, :10]"
   ]
  }
 ],
 "metadata": {
  "kernelspec": {
   "display_name": "Python 3",
   "language": "python",
   "name": "python3"
  },
  "language_info": {
   "codemirror_mode": {
    "name": "ipython",
    "version": 3
   },
   "file_extension": ".py",
   "mimetype": "text/x-python",
   "name": "python",
   "nbconvert_exporter": "python",
   "pygments_lexer": "ipython3",
   "version": "3.7.1"
  }
 },
 "nbformat": 4,
 "nbformat_minor": 2
}

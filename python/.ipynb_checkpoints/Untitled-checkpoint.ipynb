{
 "cells": [
  {
   "cell_type": "code",
   "execution_count": 1,
   "metadata": {},
   "outputs": [],
   "source": [
    "from finch import finch\n",
    "import scipy.io\n",
    "import h5py\n",
    "import numpy as np\n"
   ]
  },
  {
   "cell_type": "code",
   "execution_count": 2,
   "metadata": {},
   "outputs": [],
   "source": [
    "file_path = \"/media/fcheng/FINCH-Clustering/data/STL-10/data.mat\"\n",
    "\n",
    "\n",
    "with h5py.File(file_path, 'r') as f:\n",
    "    data = f['data']\n",
    "    data = np.array(data).T"
   ]
  },
  {
   "cell_type": "code",
   "execution_count": 3,
   "metadata": {},
   "outputs": [],
   "source": [
    "from scipy.spatial import distance\n",
    "from scipy.sparse import coo_matrix\n"
   ]
  },
  {
   "cell_type": "code",
   "execution_count": 4,
   "metadata": {},
   "outputs": [],
   "source": [
    "## clustRank\n",
    "\n",
    "mat = data \n",
    "s = mat.shape[0]\n",
    "initial_rank = []\n",
    "\n",
    "if initial_rank:\n",
    "    orig_dist = None\n",
    "elif s <= 70000:\n",
    "    # orig_dist = pdist2(mat, mat, 'cosine')\n",
    "    orig_dist = distance.cdist(mat, mat, metric='cosine')\n",
    "    orig_dist[np.eye(orig_dist.shape[0], orig_dist.shape[1])>0] = np.inf\n",
    "    d = np.min(orig_dist, axis=1)\n",
    "    initial_rank = np.argmin(orig_dist, axis=1)\n",
    "    min_sim = np.max(d)  # 最小相似性\n",
    "else:\n",
    "    print('finding exact neghbours via pdist is not fesable on ram with data size of %d points.\\nUsing flann to compute 1st-neighbours at this step ...\\n\\n '%s)\n",
    "    initial_rank, d = flann_nn(mat, 8)\n",
    "    print('step flann done...')\n",
    "    min_sim = np.max(d)\n",
    "    orig_dist = None\n",
    "\n",
    "# A = np.zeros(shape=(s, s))\n",
    "# idx = np.stack([np.arange(s), initial_rank], axis=0).T\n",
    "# A[idx[:, 0], idx[:, 1]] = 1\n",
    "# A = A + np.eye(s, s)\n",
    "# A = A * A.T\n",
    "# A[np.eye(s, s)>0] = 0\n",
    "\n",
    "A = coo_matrix((np.ones(s), (np.arange(s), initial_rank)), shape=(s, s))\n",
    "A = A + coo_matrix((np.ones(s), (np.arange(s), np.arange(s))), shape=(s, s))\n",
    "A = A @ A.T\n",
    "A[coo_matrix((np.ones(s), (np.arange(s), np.arange(s))), shape=(s, s))>0] = 0"
   ]
  },
  {
   "cell_type": "code",
   "execution_count": 5,
   "metadata": {},
   "outputs": [
    {
     "name": "stdout",
     "output_type": "stream",
     "text": [
      "(13000, 13000)\n",
      "  (0, 0)\t0.0\n",
      "  (1, 1)\t0.0\n",
      "  (2, 2)\t0.0\n",
      "  (3, 3)\t0.0\n",
      "  (4, 4)\t0.0\n",
      "  (5, 5)\t0.0\n",
      "  (6, 6)\t0.0\n",
      "  (7, 7)\t0.0\n",
      "  (8, 8)\t0.0\n",
      "  (9, 9)\t0.0\n",
      "(13000, 13000)\n",
      "(13000, 2048)\n"
     ]
    }
   ],
   "source": [
    "print(A.shape)\n",
    "print(A[:10, :10])\n",
    "print(orig_dist.shape)\n",
    "print(data.shape)"
   ]
  },
  {
   "cell_type": "code",
   "execution_count": 6,
   "metadata": {},
   "outputs": [],
   "source": [
    "np.sum(A*orig_dist == np.nan)\n",
    "temp = A*orig_dist"
   ]
  },
  {
   "cell_type": "code",
   "execution_count": 7,
   "metadata": {},
   "outputs": [
    {
     "data": {
      "text/plain": [
       "array([0.04992016, 0.05044046, 0.05266028, ...,        nan,        nan,\n",
       "              nan])"
      ]
     },
     "execution_count": 7,
     "metadata": {},
     "output_type": "execute_result"
    }
   ],
   "source": [
    "np.unique(temp)"
   ]
  },
  {
   "cell_type": "code",
   "execution_count": 8,
   "metadata": {},
   "outputs": [
    {
     "name": "stdout",
     "output_type": "stream",
     "text": [
      "0\n"
     ]
    },
    {
     "data": {
      "text/plain": [
       "0.6404325522053438"
      ]
     },
     "execution_count": 8,
     "metadata": {},
     "output_type": "execute_result"
    }
   ],
   "source": [
    "print(np.sum(temp == temp[0,0]))\n",
    "temp[0,1]"
   ]
  },
  {
   "cell_type": "code",
   "execution_count": 12,
   "metadata": {},
   "outputs": [],
   "source": [
    "## get_clust\n",
    "\n",
    "from scipy.sparse.csgraph import connected_components\n",
    "from FINCH_Core.graph import mat2edgeGraph\n",
    "\n",
    "_, labels_cc = connected_components(csgraph=A, directed=False, connection='weak', return_labels=True)\n",
    "\n",
    "g = mat2edgeGraph(A)\n",
    "cc = g.connectedComponents()\n",
    "labels = np.zeros(A.shape[0])\n",
    "for i, c in enumerate(cc):\n",
    "    labels[c] = i"
   ]
  },
  {
   "cell_type": "code",
   "execution_count": 17,
   "metadata": {},
   "outputs": [
    {
     "name": "stdout",
     "output_type": "stream",
     "text": [
      "(13000,) 2060.0\n",
      "(13000,) 2060\n",
      "13000\n"
     ]
    }
   ],
   "source": [
    "print(labels.shape, np.max(labels))\n",
    "print(labels_cc.shape, np.max(labels_cc))\n",
    "print(np.sum(labels.astype(np.int) == labels_cc))"
   ]
  },
  {
   "cell_type": "code",
   "execution_count": null,
   "metadata": {},
   "outputs": [],
   "source": [
    "## get_merge\n",
    "\n"
   ]
  }
 ],
 "metadata": {
  "kernelspec": {
   "display_name": "Python 3",
   "language": "python",
   "name": "python3"
  },
  "language_info": {
   "codemirror_mode": {
    "name": "ipython",
    "version": 3
   },
   "file_extension": ".py",
   "mimetype": "text/x-python",
   "name": "python",
   "nbconvert_exporter": "python",
   "pygments_lexer": "ipython3",
   "version": "3.7.1"
  }
 },
 "nbformat": 4,
 "nbformat_minor": 2
}

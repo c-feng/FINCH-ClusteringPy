{
 "cells": [
  {
   "cell_type": "code",
   "execution_count": 127,
   "metadata": {},
   "outputs": [],
   "source": [
    "from finch import finch\n",
    "import scipy.io\n",
    "import h5py\n",
    "import numpy as np\n"
   ]
  },
  {
   "cell_type": "code",
   "execution_count": 128,
   "metadata": {},
   "outputs": [],
   "source": [
    "file_path = \"/media/fcheng/FINCH-Clustering/data/STL-10/data.mat\"\n",
    "\n",
    "\n",
    "with h5py.File(file_path, 'r') as f:\n",
    "    data = f['data']\n",
    "    data = np.array(data).T"
   ]
  },
  {
   "cell_type": "code",
   "execution_count": 129,
   "metadata": {},
   "outputs": [],
   "source": [
    "from scipy.spatial import distance\n",
    "from scipy.sparse import coo_matrix\n"
   ]
  },
  {
   "cell_type": "code",
   "execution_count": 130,
   "metadata": {},
   "outputs": [],
   "source": [
    "## clustRank\n",
    "\n",
    "mat = data \n",
    "s = mat.shape[0]\n",
    "initial_rank = []\n",
    "\n",
    "if initial_rank:\n",
    "    orig_dist = None\n",
    "elif s <= 70000:\n",
    "    # orig_dist = pdist2(mat, mat, 'cosine')\n",
    "    orig_dist = distance.cdist(mat, mat, metric='cosine')\n",
    "    orig_dist[np.eye(orig_dist.shape[0], orig_dist.shape[1])>0] = np.inf\n",
    "    d = np.min(orig_dist, axis=1)\n",
    "    initial_rank = np.argmin(orig_dist, axis=1)\n",
    "    min_sim = np.max(d)  # 最小相似性\n",
    "else:\n",
    "    print('finding exact neghbours via pdist is not fesable on ram with data size of %d points.\\nUsing flann to compute 1st-neighbours at this step ...\\n\\n '%s)\n",
    "    initial_rank, d = flann_nn(mat, 8)\n",
    "    print('step flann done...')\n",
    "    min_sim = np.max(d)\n",
    "    orig_dist = None\n",
    "\n",
    "# A = np.zeros(shape=(s, s))\n",
    "# idx = np.stack([np.arange(s), initial_rank], axis=0).T\n",
    "# A[idx[:, 0], idx[:, 1]] = 1\n",
    "# A = A + np.eye(s, s)\n",
    "# A = A * A.T\n",
    "# A[np.eye(s, s)>0] = 0\n",
    "\n",
    "A = coo_matrix((np.ones(s), (np.arange(s), initial_rank)), shape=(s, s))\n",
    "A = A + coo_matrix((np.ones(s), (np.arange(s), np.arange(s))), shape=(s, s))\n",
    "A = A @ A.T\n",
    "A[coo_matrix((np.ones(s), (np.arange(s), np.arange(s))), shape=(s, s))>0] = 0"
   ]
  },
  {
   "cell_type": "code",
   "execution_count": 131,
   "metadata": {},
   "outputs": [
    {
     "name": "stdout",
     "output_type": "stream",
     "text": [
      "(13000, 13000)\n",
      "  (0, 0)\t0.0\n",
      "  (1, 1)\t0.0\n",
      "  (2, 2)\t0.0\n",
      "  (3, 3)\t0.0\n",
      "  (4, 4)\t0.0\n",
      "  (5, 5)\t0.0\n",
      "  (6, 6)\t0.0\n",
      "  (7, 7)\t0.0\n",
      "  (8, 8)\t0.0\n",
      "  (9, 9)\t0.0\n",
      "(13000, 13000)\n",
      "(13000, 2048)\n"
     ]
    }
   ],
   "source": [
    "print(A.shape)\n",
    "print(A[:10, :10])\n",
    "print(orig_dist.shape)\n",
    "print(data.shape)"
   ]
  },
  {
   "cell_type": "code",
   "execution_count": 132,
   "metadata": {},
   "outputs": [],
   "source": [
    "np.sum(A*orig_dist == np.nan)\n",
    "temp = A*orig_dist"
   ]
  },
  {
   "cell_type": "code",
   "execution_count": 133,
   "metadata": {},
   "outputs": [
    {
     "data": {
      "text/plain": [
       "array([0.04992016, 0.05044046, 0.05266028, ...,        nan,        nan,\n",
       "              nan])"
      ]
     },
     "execution_count": 133,
     "metadata": {},
     "output_type": "execute_result"
    }
   ],
   "source": [
    "np.unique(temp)"
   ]
  },
  {
   "cell_type": "code",
   "execution_count": 134,
   "metadata": {},
   "outputs": [
    {
     "name": "stdout",
     "output_type": "stream",
     "text": [
      "0\n"
     ]
    },
    {
     "data": {
      "text/plain": [
       "0.6404325522053438"
      ]
     },
     "execution_count": 134,
     "metadata": {},
     "output_type": "execute_result"
    }
   ],
   "source": [
    "print(np.sum(temp == temp[0,0]))\n",
    "temp[0,1]"
   ]
  },
  {
   "cell_type": "code",
   "execution_count": 135,
   "metadata": {},
   "outputs": [],
   "source": [
    "## get_clust\n",
    "\n",
    "from scipy.sparse.csgraph import connected_components\n",
    "from FINCH_Core.graph import mat2edgeGraph\n",
    "\n",
    "_, labels_cc = connected_components(csgraph=A, directed=False, connection='weak', return_labels=True)\n",
    "\n",
    "g = mat2edgeGraph(A)\n",
    "cc = g.connectedComponents()\n",
    "labels = np.zeros(A.shape[0])\n",
    "for i, c in enumerate(cc):\n",
    "    labels[c] = i"
   ]
  },
  {
   "cell_type": "code",
   "execution_count": 136,
   "metadata": {},
   "outputs": [
    {
     "name": "stdout",
     "output_type": "stream",
     "text": [
      "(13000,) 2060.0\n",
      "(13000,) 2060\n",
      "13000\n"
     ]
    }
   ],
   "source": [
    "print(labels.shape, np.max(labels))\n",
    "print(labels_cc.shape, np.max(labels_cc))\n",
    "print(np.sum(labels.astype(np.int) == labels_cc))"
   ]
  },
  {
   "cell_type": "code",
   "execution_count": 137,
   "metadata": {},
   "outputs": [],
   "source": [
    "## get_merge\n",
    "# from FINCH_Core.coolMean import coolMean\n",
    "\n",
    "def getC(G, u):\n",
    "    b, m, n = np.unique(G, return_index=True, return_inverse=True)\n",
    "    G_ = u[n]\n",
    "    return G_\n",
    "\n",
    "def ind2vec(ind, N=None):\n",
    "    ind = np.asarray(ind)\n",
    "    if N is None: \n",
    "        N = ind.max() + 1\n",
    "    return (np.arange(N) == ind[:,None]).astype(int)\n",
    "\n",
    "def coolMean(M_, u):\n",
    "    u_ = ind2vec(u.T).T\n",
    "    nf = np.sum(u_, 1)\n",
    "    idx = np.argsort(u)\n",
    "    M = np.zeros(shape=(len(idx), M_.shape[1]))\n",
    "    M = M_[idx, :]\n",
    "\n",
    "    M = np.cumsum(np.concatenate([np.zeros((1, M.shape[1])), M]), axis=0)\n",
    "\n",
    "    cnf = np.cumsum(nf)\n",
    "    nf1 = [0] + (cnf).tolist()\n",
    "    nf1 = np.array(nf1[:-1])\n",
    "    s = np.stack([nf1, cnf], axis=1)\n",
    "    \n",
    "    M = M[np.array(s)[:, 1], :] - M[np.array(s)[:, 0], :]\n",
    "    M = M / nf[:, None]\n",
    "\n",
    "    return M\n",
    "\n",
    "c = []\n",
    "u = labels\n",
    "#  data已经存在\n"
   ]
  },
  {
   "cell_type": "code",
   "execution_count": 138,
   "metadata": {},
   "outputs": [],
   "source": [
    "# get_merge\n",
    "u_ = ind2vec(u).T\n",
    "num_clust = u_.shape[0]\n",
    "\n",
    "if len(c):\n",
    "    c = getC(c, u.T)\n",
    "else:\n",
    "    c = u.T\n",
    "\n",
    "if num_clust <= 5e6:\n",
    "    mat = coolMean(data, c)\n",
    "else:\n",
    "    print(\"resorting to approx combining method ...\")\n",
    "\n",
    "    # 这里是Fisrt 模式, .m中是last\n",
    "    _, ic, _ = np.unique(c, return_index=True, return_inverse=True)\n",
    "\n",
    "    mat = data[ic, :]"
   ]
  },
  {
   "cell_type": "code",
   "execution_count": 139,
   "metadata": {
    "scrolled": true
   },
   "outputs": [
    {
     "name": "stdout",
     "output_type": "stream",
     "text": [
      "[[0.04093142 0.15441199 1.23327896 0.65436242 0.93097696 0.24027635\n",
      "  0.52146819 0.28421423 0.08741484 0.00656254]\n",
      " [0.78801213 0.38923053 0.17731755 0.11491592 0.62110606 3.36836135\n",
      "  0.06537916 0.36890557 0.10829236 0.04893236]\n",
      " [0.30743476 0.11307178 0.35239838 0.30884921 1.03607747 0.79648317\n",
      "  0.16686233 0.14079956 0.24026253 0.21062335]\n",
      " [0.74710247 1.33104843 0.34513118 0.98153604 0.45060413 0.71767141\n",
      "  0.29718454 0.83767126 3.18700963 0.03520721]\n",
      " [0.07266629 0.18395681 0.19053651 0.10359657 3.17704082 0.23914292\n",
      "  0.3092468  0.49075881 0.00897    0.03298206]\n",
      " [0.28023019 0.14312471 0.1274875  0.70268275 0.2183824  2.26531586\n",
      "  0.58831347 0.49654616 1.38862363 0.04738321]\n",
      " [0.20141239 0.13563699 0.31446827 0.10387727 5.89049594 0.08737619\n",
      "  0.06358969 0.30360839 0.30314005 0.4703034 ]\n",
      " [0.10085571 0.17027033 0.27665633 0.10256788 0.71235251 1.13755859\n",
      "  0.06933954 0.10267043 0.27801215 0.03590233]\n",
      " [0.33960968 0.25821274 0.08292947 0.42589353 0.48099163 1.01381814\n",
      "  0.49558241 0.36000292 0.09519259 0.30943069]\n",
      " [0.1757556  0.02629882 0.19518766 0.13329357 0.4168121  0.23844995\n",
      "  0.75323284 0.33051837 1.76007547 0.0195415 ]]\n"
     ]
    }
   ],
   "source": [
    "print(mat[:10, :10])"
   ]
  },
  {
   "cell_type": "code",
   "execution_count": 97,
   "metadata": {},
   "outputs": [
    {
     "name": "stdout",
     "output_type": "stream",
     "text": [
      "(2061, 13000) [0 1]\n",
      "190.0\n"
     ]
    },
    {
     "data": {
      "text/plain": [
       "2061"
      ]
     },
     "execution_count": 97,
     "metadata": {},
     "output_type": "execute_result"
    }
   ],
   "source": [
    "print(u_.shape, np.unique(u_))\n",
    "print(u[209])\n",
    "np.where(u_[:, 209]==1)\n",
    "num_clust"
   ]
  },
  {
   "cell_type": "code",
   "execution_count": 98,
   "metadata": {},
   "outputs": [
    {
     "name": "stdout",
     "output_type": "stream",
     "text": [
      "(2061, 2048)\n",
      "(13000,)\n",
      "(13000,)\n"
     ]
    }
   ],
   "source": [
    "print(mat.shape)\n",
    "print(c.shape)\n",
    "print(u.shape)"
   ]
  },
  {
   "cell_type": "code",
   "execution_count": 99,
   "metadata": {},
   "outputs": [],
   "source": [
    "if orig_dist is not None:\n",
    "    min_sim = np.max(orig_dist[A.toarray() > 0])\n",
    "exit_clust = np.inf\n",
    "c_ = c\n",
    "\n",
    "num_clust = [num_clust]\n",
    "k = 1"
   ]
  },
  {
   "cell_type": "code",
   "execution_count": 46,
   "metadata": {},
   "outputs": [
    {
     "data": {
      "text/plain": [
       "0.6136007848862834"
      ]
     },
     "execution_count": 46,
     "metadata": {},
     "output_type": "execute_result"
    }
   ],
   "source": [
    "min_sim"
   ]
  },
  {
   "cell_type": "code",
   "execution_count": null,
   "metadata": {},
   "outputs": [],
   "source": [
    "#### **************************** ####\n",
    "## while-LOOP 进入循环\n",
    "##   ............................   ##"
   ]
  },
  {
   "cell_type": "code",
   "execution_count": 47,
   "metadata": {},
   "outputs": [
    {
     "data": {
      "text/plain": [
       "True"
      ]
     },
     "execution_count": 47,
     "metadata": {},
     "output_type": "execute_result"
    }
   ],
   "source": [
    "exit_clust > 0"
   ]
  },
  {
   "cell_type": "code",
   "execution_count": null,
   "metadata": {},
   "outputs": [],
   "source": []
  },
  {
   "cell_type": "code",
   "execution_count": 117,
   "metadata": {},
   "outputs": [
    {
     "name": "stdout",
     "output_type": "stream",
     "text": [
      "(13000, 2048)\n",
      "(13000,)\n",
      "[694. 609. 695. 275.  40. 696.  30.  59. 697. 634.]\n"
     ]
    }
   ],
   "source": [
    "## coolMean \n",
    "# 返回的矩阵值不对\n",
    "M = data\n",
    "u = c\n",
    "print(data.shape)\n",
    "print(c.shape)\n",
    "print(c[1000:1010])\n"
   ]
  },
  {
   "cell_type": "code",
   "execution_count": 120,
   "metadata": {},
   "outputs": [
    {
     "name": "stdout",
     "output_type": "stream",
     "text": [
      "<class 'numpy.ndarray'> (2061, 2048)\n",
      "(13000, 2048)\n"
     ]
    }
   ],
   "source": [
    "print(type(M), M.shape)\n",
    "print(data.shape)"
   ]
  },
  {
   "cell_type": "code",
   "execution_count": 119,
   "metadata": {},
   "outputs": [],
   "source": [
    "u_ = ind2vec(u.T).T\n",
    "nf = np.sum(u_, 1)\n",
    "idx = np.argsort(u)\n",
    "M = M[idx, :]\n",
    "\n",
    "M = np.cumsum(np.concatenate([np.zeros((1, M.shape[1])), M]), axis=0)\n",
    "\n",
    "cnf = np.cumsum(nf)\n",
    "nf1 = [0] + (cnf).tolist()\n",
    "nf1 = np.array(nf1[:-1])\n",
    "s = np.stack([nf1, cnf], axis=1)\n",
    "\n",
    "M = M[np.array(s)[:, 1], :] - M[np.array(s)[:, 0], :]\n",
    "M = M / nf[:, None]"
   ]
  },
  {
   "cell_type": "code",
   "execution_count": 113,
   "metadata": {},
   "outputs": [
    {
     "name": "stdout",
     "output_type": "stream",
     "text": [
      "[    0  7070  7690  1350  8423     1 12244   410  8096 11878  8882  2818\n",
      "     2 10840  1752  8812  4088  1212  2115  2112  6542  2269 12568 12704\n",
      " 12449     3  4893  7549   302     4   846 10119  3659  5263  3384   118\n",
      "  4669 11554  9779     5  7868  1640 12005     6  4642  8173     7 12574\n",
      "  6847  2356  3489  2632 10050 10514  6474   359 12910 10402  4829  7084\n",
      "  6185 10213 10263  3104 10144  9036   792  3021  8118  9063 11397 11276\n",
      "   409  5847  1406  5647 10746 10262  3993 10898   122  7268 12594     8\n",
      "  1883  5367  5238  4488 10678 11183     9   843  6119  1340  1496 10862\n",
      " 10109  2447  4118    10]\n"
     ]
    }
   ],
   "source": [
    "print(idx[:100])"
   ]
  },
  {
   "cell_type": "code",
   "execution_count": 114,
   "metadata": {},
   "outputs": [
    {
     "name": "stdout",
     "output_type": "stream",
     "text": [
      "[[0.04093142 0.15441199 1.23327896 0.65436242 0.93097696 0.24027635\n",
      "  0.52146819 0.28421423 0.08741484 0.00656254]\n",
      " [0.78801213 0.38923053 0.17731755 0.11491592 0.62110606 3.36836135\n",
      "  0.06537916 0.36890557 0.10829236 0.04893236]\n",
      " [0.30743476 0.11307178 0.35239838 0.30884921 1.03607747 0.79648317\n",
      "  0.16686233 0.14079956 0.24026253 0.21062335]\n",
      " [0.74710247 1.33104843 0.34513118 0.98153604 0.45060413 0.71767141\n",
      "  0.29718454 0.83767126 3.18700963 0.03520721]\n",
      " [0.07266629 0.18395681 0.19053651 0.10359657 3.17704082 0.23914292\n",
      "  0.3092468  0.49075881 0.00897    0.03298206]\n",
      " [0.28023019 0.14312471 0.1274875  0.70268275 0.2183824  2.26531586\n",
      "  0.58831347 0.49654616 1.38862363 0.04738321]\n",
      " [0.20141239 0.13563699 0.31446827 0.10387727 5.89049594 0.08737619\n",
      "  0.06358969 0.30360839 0.30314005 0.4703034 ]\n",
      " [0.10085571 0.17027033 0.27665633 0.10256788 0.71235251 1.13755859\n",
      "  0.06933954 0.10267043 0.27801215 0.03590233]\n",
      " [0.33960968 0.25821274 0.08292947 0.42589353 0.48099163 1.01381814\n",
      "  0.49558241 0.36000292 0.09519259 0.30943069]\n",
      " [0.1757556  0.02629882 0.19518766 0.13329357 0.4168121  0.23844995\n",
      "  0.75323284 0.33051837 1.76007547 0.0195415 ]]\n"
     ]
    }
   ],
   "source": [
    "print(M[:10, :10])"
   ]
  },
  {
   "cell_type": "code",
   "execution_count": 75,
   "metadata": {},
   "outputs": [
    {
     "name": "stdout",
     "output_type": "stream",
     "text": [
      "[    0     4     6 ... 12994 12996 12998]\n"
     ]
    }
   ],
   "source": [
    "print(nf1)"
   ]
  }
 ],
 "metadata": {
  "kernelspec": {
   "display_name": "Python 3",
   "language": "python",
   "name": "python3"
  },
  "language_info": {
   "codemirror_mode": {
    "name": "ipython",
    "version": 3
   },
   "file_extension": ".py",
   "mimetype": "text/x-python",
   "name": "python",
   "nbconvert_exporter": "python",
   "pygments_lexer": "ipython3",
   "version": "3.7.1"
  }
 },
 "nbformat": 4,
 "nbformat_minor": 2
}
